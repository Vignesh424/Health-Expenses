{
  "nbformat": 4,
  "nbformat_minor": 0,
  "metadata": {
    "colab": {
      "name": "Health Expenditure.ipynb",
      "provenance": [],
      "authorship_tag": "ABX9TyPro385d1AhdOCvqnf8fXt+",
      "include_colab_link": true
    },
    "kernelspec": {
      "name": "python3",
      "display_name": "Python 3"
    },
    "language_info": {
      "name": "python"
    }
  },
  "cells": [
    {
      "cell_type": "markdown",
      "metadata": {
        "id": "view-in-github",
        "colab_type": "text"
      },
      "source": [
        "<a href=\"https://colab.research.google.com/github/Vignesh424/Health-Expenses/blob/main/Health_Expenditure.ipynb\" target=\"_parent\"><img src=\"https://colab.research.google.com/assets/colab-badge.svg\" alt=\"Open In Colab\"/></a>"
      ]
    },
    {
      "cell_type": "code",
      "execution_count": null,
      "metadata": {
        "id": "hGkU2spM4gRp"
      },
      "outputs": [],
      "source": [
        "#import packages\n",
        "import numpy as np \n",
        "import pandas as pd \n",
        "import os\n",
        "from sklearn.model_selection import train_test_split\n",
        "from sklearn.preprocessing import LabelEncoder\n",
        "from sklearn.ensemble import RandomForestRegressor"
      ]
    },
    {
      "cell_type": "code",
      "source": [
        "#read the data\n",
        "data = pd.read_csv('/content/insurance.csv')"
      ],
      "metadata": {
        "id": "obbV3xOD4opS"
      },
      "execution_count": null,
      "outputs": []
    },
    {
      "cell_type": "code",
      "source": [
        "#Shape\n",
        "data.shape"
      ],
      "metadata": {
        "colab": {
          "base_uri": "https://localhost:8080/"
        },
        "id": "QT3RnY884wG5",
        "outputId": "101a4135-5b22-4820-fd25-a9b918ee8633"
      },
      "execution_count": null,
      "outputs": [
        {
          "output_type": "execute_result",
          "data": {
            "text/plain": [
              "(1338, 7)"
            ]
          },
          "metadata": {},
          "execution_count": 29
        }
      ]
    },
    {
      "cell_type": "code",
      "source": [
        "#info\n",
        "data.info()"
      ],
      "metadata": {
        "colab": {
          "base_uri": "https://localhost:8080/"
        },
        "id": "EntGrsN04xy7",
        "outputId": "7eddd209-3c66-4424-d8bc-f10883fd540d"
      },
      "execution_count": null,
      "outputs": [
        {
          "output_type": "stream",
          "name": "stdout",
          "text": [
            "<class 'pandas.core.frame.DataFrame'>\n",
            "RangeIndex: 1338 entries, 0 to 1337\n",
            "Data columns (total 7 columns):\n",
            " #   Column    Non-Null Count  Dtype  \n",
            "---  ------    --------------  -----  \n",
            " 0   age       1338 non-null   int64  \n",
            " 1   sex       1338 non-null   object \n",
            " 2   bmi       1338 non-null   float64\n",
            " 3   children  1338 non-null   int64  \n",
            " 4   smoker    1338 non-null   object \n",
            " 5   region    1338 non-null   object \n",
            " 6   charges   1338 non-null   float64\n",
            "dtypes: float64(2), int64(2), object(3)\n",
            "memory usage: 73.3+ KB\n"
          ]
        }
      ]
    },
    {
      "cell_type": "code",
      "source": [
        "#Label Encode\n",
        "le = LabelEncoder()\n",
        "\n",
        "le.fit(data[\"sex\"])\n",
        "data[\"Sex\"] = le.transform(data[\"sex\"])\n",
        "le.fit(data[\"smoker\"])\n",
        "data[\"Smoker\"] = le.transform(data[\"smoker\"])\n",
        "le.fit(data[\"region\"])\n",
        "data[\"Region\"] = le.transform(data[\"region\"])"
      ],
      "metadata": {
        "id": "8UyI3gYi4zNm"
      },
      "execution_count": null,
      "outputs": []
    },
    {
      "cell_type": "code",
      "source": [
        "#predictor and target variables\n",
        "Y = data[\"charges\"]\n",
        "X = data[[\"age\", \"bmi\", \"children\", \"Sex\", \"Smoker\", \"Region\"]]\n",
        "X_train, X_test, Y_train, Y_test = train_test_split(X,Y, test_size=0.3, random_state=0)"
      ],
      "metadata": {
        "id": "Va0vNa1P47qj"
      },
      "execution_count": null,
      "outputs": []
    },
    {
      "cell_type": "code",
      "source": [
        "#Random Forest \n",
        "linreg = RandomForestRegressor()\n",
        "linreg.fit(X_train, Y_train)"
      ],
      "metadata": {
        "colab": {
          "base_uri": "https://localhost:8080/"
        },
        "id": "zYhN8SIi5I89",
        "outputId": "d0af36c3-d400-4651-d050-34bc223022c5"
      },
      "execution_count": null,
      "outputs": [
        {
          "output_type": "execute_result",
          "data": {
            "text/plain": [
              "RandomForestRegressor()"
            ]
          },
          "metadata": {},
          "execution_count": 33
        }
      ]
    },
    {
      "cell_type": "code",
      "source": [
        "#Predict on unseen data\n",
        "predictions = linreg.predict(X_test)"
      ],
      "metadata": {
        "id": "J_lRJdc25wSW"
      },
      "execution_count": null,
      "outputs": []
    },
    {
      "cell_type": "code",
      "source": [
        "#Score \n",
        "linreg.score(X_test,Y_test)"
      ],
      "metadata": {
        "colab": {
          "base_uri": "https://localhost:8080/"
        },
        "id": "9TrUDJka51KB",
        "outputId": "5c82fc2e-7097-48a9-bdce-0db36fed9555"
      },
      "execution_count": null,
      "outputs": [
        {
          "output_type": "execute_result",
          "data": {
            "text/plain": [
              "0.8546664465753373"
            ]
          },
          "metadata": {},
          "execution_count": 35
        }
      ]
    },
    {
      "cell_type": "markdown",
      "source": [
        "The Score is 85%. Our model is doing a pretty good job."
      ],
      "metadata": {
        "id": "deQ_-Ti46dSJ"
      }
    },
    {
      "cell_type": "code",
      "source": [
        "#Model building\n",
        "import pickle\n",
        "\n",
        "#Serializing the model\n",
        "with open('health.pkl', 'wb') as f:\n",
        "    pickle.dump(linreg, f)"
      ],
      "metadata": {
        "id": "JIpGt9Wu55NR"
      },
      "execution_count": null,
      "outputs": []
    },
    {
      "cell_type": "code",
      "source": [
        "#De-Serializing the model\n",
        "with open('health.pkl', 'rb') as f:\n",
        "    clf_loaded = pickle.load(f)"
      ],
      "metadata": {
        "id": "eiwU9U2U6D_h"
      },
      "execution_count": null,
      "outputs": []
    },
    {
      "cell_type": "code",
      "source": [
        "#Check the pickle file by inputing the variables\n",
        "model = pickle.load(open('health.pkl','rb'))\n",
        "print(model.predict([[55, 18, 0, 1, 1, 1]]))"
      ],
      "metadata": {
        "colab": {
          "base_uri": "https://localhost:8080/"
        },
        "id": "_9gtIBzn6JR5",
        "outputId": "9a10026e-628c-436f-f2dd-774e3853e9fe"
      },
      "execution_count": null,
      "outputs": [
        {
          "output_type": "stream",
          "name": "stdout",
          "text": [
            "[22943.7014422]\n"
          ]
        },
        {
          "output_type": "stream",
          "name": "stderr",
          "text": [
            "/usr/local/lib/python3.7/dist-packages/sklearn/base.py:451: UserWarning: X does not have valid feature names, but RandomForestRegressor was fitted with feature names\n",
            "  \"X does not have valid feature names, but\"\n"
          ]
        }
      ]
    },
    {
      "cell_type": "code",
      "source": [
        ""
      ],
      "metadata": {
        "id": "R-z-O9jR6NwZ"
      },
      "execution_count": null,
      "outputs": []
    }
  ]
}